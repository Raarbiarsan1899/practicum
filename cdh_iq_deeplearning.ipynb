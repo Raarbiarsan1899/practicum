{
 "cells": [
  {
   "cell_type": "code",
   "execution_count": 1,
   "metadata": {},
   "outputs": [
    {
     "name": "stderr",
     "output_type": "stream",
     "text": [
      "Using TensorFlow backend.\n"
     ]
    }
   ],
   "source": [
    "import numpy\n",
    "import pandas\n",
    "from keras.models import Sequential\n",
    "from keras.layers import Dense\n",
    "from keras.layers import Dropout\n"
   ]
  },
  {
   "cell_type": "code",
   "execution_count": 2,
   "metadata": {},
   "outputs": [],
   "source": [
    "# load dataset\n",
    "cdh_iq_newborn = pandas.read_csv(\"cdh_iq_newborn.csv\", delimiter=\",\")\n",
    "cdh_iq_2yrs = pandas.read_csv(\"cdh_iq_2yrs.csv\", delimiter=\",\")\n",
    "cdh_iq_5yrs = pandas.read_csv(\"cdh_iq_5yrs.csv\", delimiter=\",\")"
   ]
  },
  {
   "cell_type": "code",
   "execution_count": 8,
   "metadata": {},
   "outputs": [
    {
     "name": "stdout",
     "output_type": "stream",
     "text": [
      "[100.  80.  93. 118.]\n"
     ]
    }
   ],
   "source": [
    "# impute when necessary\n",
    "# imputer = SimpleImputer()\n",
    "# X = imputer.fit_transform(X)\n",
    "# cdh_iq_2yrs.iloc[:, 50:56].describe()\n",
    "\n",
    "data_newborn = cdh_iq_newborn.values\n",
    "# print(cdh_iq_newborn.shape)\n",
    "# split into input (X) and output (Y) variables\n",
    "X_newborn = data_newborn[:, 0:38]\n",
    "Y_newborn = data_newborn[:, 38]\n",
    "\n",
    "data_2yrs = cdh_iq_2yrs.values\n",
    "# print(cdh_iq_2yrs.shape)\n",
    "# split into input (X) and output (Y) variables\n",
    "X_2yrs = data_2yrs[:, 0:57]\n",
    "Y_2yrs = data_2yrs[:, 57]\n",
    "\n",
    "\n",
    "data_5yrs = cdh_iq_5yrs.values\n",
    "# print(cdh_iq_5yrs.shape)\n",
    "# split into input (X) and output (Y) variables\n",
    "X_5yrs = data_5yrs[:, 1:63]\n",
    "Y_5yrs = data_5yrs[:, 0]\n",
    "\n"
   ]
  },
  {
   "cell_type": "code",
   "execution_count": 9,
   "metadata": {},
   "outputs": [],
   "source": [
    "# cdh_iq.shape\n",
    "cols_newborn = X_newborn.shape[1]\n",
    "cols_2yrs = X_2yrs.shape[1]\n",
    "cols_5yrs = X_5yrs.shape[1]\n"
   ]
  },
  {
   "cell_type": "code",
   "execution_count": 25,
   "metadata": {},
   "outputs": [],
   "source": [
    "from keras import regularizers\n",
    "\n",
    "# define base model\n",
    "def baseline_model(n_cols):\n",
    "    # create model\n",
    "    model = Sequential()\n",
    "    \n",
    "    # kernel_initializer='normal'\n",
    "    model.add(Dense(100, activation = 'relu', input_shape = (n_cols, ),\n",
    "                    kernel_regularizer=regularizers.l2(0.000001)\n",
    "                   ))\n",
    "    # model.add(Dropout(0.2))\n",
    "    for i in range(5):\n",
    "        model.add(Dense(100, activation = 'relu',\n",
    "                        kernel_regularizer=regularizers.l2(0.000001)\n",
    "                       ))\n",
    "        # model.add(Dropout(0.01))\n",
    "        \n",
    "    model.add(Dense(1))\n",
    "    \n",
    "    # Compile model\n",
    "    model.compile(loss='mean_squared_error', optimizer='adam')\n",
    "    return model"
   ]
  },
  {
   "cell_type": "code",
   "execution_count": 36,
   "metadata": {},
   "outputs": [],
   "source": [
    "# build the model\n",
    "model_newborn = baseline_model(cols_newborn)\n",
    "\n",
    "# fit the model\n",
    "history_newborn = model_newborn.fit(X_newborn, Y_newborn, epochs=100, validation_split=0.2, verbose=0)\n"
   ]
  },
  {
   "cell_type": "code",
   "execution_count": 37,
   "metadata": {},
   "outputs": [],
   "source": [
    "predicted_newborn = pandas.concat([pandas.DataFrame(model_newborn.predict(X_newborn)),\n",
    "                                   pandas.DataFrame(Y_newborn)], axis=1)\n",
    "predicted_newborn.columns = ['Y_hat', \"Y\"]\n",
    "predicted_newborn.to_csv('predicted_newborn.csv')\n"
   ]
  },
  {
   "cell_type": "code",
   "execution_count": 28,
   "metadata": {},
   "outputs": [],
   "source": [
    "pandas.DataFrame(history_newborn.history).to_csv('history_newborn.csv')"
   ]
  },
  {
   "cell_type": "code",
   "execution_count": 34,
   "metadata": {},
   "outputs": [],
   "source": [
    "# build the model\n",
    "model_2yrs = baseline_model(cols_2yrs)\n",
    "\n",
    "# fit the model\n",
    "history_2yrs = model_2yrs.fit(X_2yrs, Y_2yrs, epochs=200, validation_split=0.2, verbose=0)\n"
   ]
  },
  {
   "cell_type": "code",
   "execution_count": 38,
   "metadata": {},
   "outputs": [],
   "source": [
    "predicted_2yrs = pandas.concat([pandas.DataFrame(model_2yrs.predict(X_2yrs)),\n",
    "                                   pandas.DataFrame(Y_2yrs)], axis=1)\n",
    "predicted_2yrs.columns = ['Y_hat', \"Y\"]\n",
    "predicted_2yrs.to_csv('predicted_2yrs.csv')\n"
   ]
  },
  {
   "cell_type": "code",
   "execution_count": 31,
   "metadata": {},
   "outputs": [],
   "source": [
    "pandas.DataFrame(history_2yrs.history).to_csv('history_2yrs.csv')"
   ]
  },
  {
   "cell_type": "code",
   "execution_count": null,
   "metadata": {},
   "outputs": [],
   "source": [
    "# build the model\n",
    "model_5yrs = baseline_model(cols_5yrs)\n",
    "\n",
    "# fit the model\n",
    "history_5yrs = model_5yrs.fit(X_5yrs, Y_5yrs, epochs=500, validation_split=0.1, verbose=1)\n",
    "\n",
    "predicted_5yrs = pandas.concat([pandas.DataFrame(model_5yrs.predict(X_5yrs)),\n",
    "                                   pandas.DataFrame(Y_5yrs)], axis=1)\n",
    "predicted_5yrs.columns = ['Y_hat', \"Y\"]\n",
    "predicted_5yrs.to_csv('predicted_5yrs.csv')\n",
    "pandas.DataFrame(history_5yrs.history).to_csv('history_5yrs.csv')"
   ]
  }
 ],
 "metadata": {
  "kernelspec": {
   "display_name": "Python 3",
   "language": "python",
   "name": "python3"
  },
  "language_info": {
   "codemirror_mode": {
    "name": "ipython",
    "version": 3
   },
   "file_extension": ".py",
   "mimetype": "text/x-python",
   "name": "python",
   "nbconvert_exporter": "python",
   "pygments_lexer": "ipython3",
   "version": "3.6.8"
  }
 },
 "nbformat": 4,
 "nbformat_minor": 2
}
